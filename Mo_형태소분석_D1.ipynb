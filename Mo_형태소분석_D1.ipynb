{
  "nbformat": 4,
  "nbformat_minor": 0,
  "metadata": {
    "colab": {
      "name": "Mo-형태소분석-D1.ipynb",
      "provenance": [],
      "private_outputs": true,
      "collapsed_sections": [],
      "authorship_tag": "ABX9TyN1wUNXtmgpDFgJF7lkz7P0",
      "include_colab_link": true
    },
    "kernelspec": {
      "name": "python3",
      "display_name": "Python 3"
    }
  },
  "cells": [
    {
      "cell_type": "markdown",
      "metadata": {
        "id": "view-in-github",
        "colab_type": "text"
      },
      "source": [
        "<a href=\"https://colab.research.google.com/github/BrianKiKim/sm_r/blob/master/Mo_%ED%98%95%ED%83%9C%EC%86%8C%EB%B6%84%EC%84%9D_D1.ipynb\" target=\"_parent\"><img src=\"https://colab.research.google.com/assets/colab-badge.svg\" alt=\"Open In Colab\"/></a>"
      ]
    },
    {
      "cell_type": "markdown",
      "metadata": {
        "id": "soCNAMS8i3R0",
        "colab_type": "text"
      },
      "source": [
        "- 공부를 위해 네이버 영화 2만건을 이용, 다른 샘플 프로그램과 비교"
      ]
    },
    {
      "cell_type": "markdown",
      "metadata": {
        "id": "H56JDfssiQdb",
        "colab_type": "text"
      },
      "source": [
        "# 형태소 분석을 위한 도큐먼트 \n",
        "\n",
        "1) 형태소분석기는 아래와 같이 여러개를 각 목적별로 조합해서 사용함 <br>\n",
        "명사 : komoran <br> \n",
        "품사정보는 okt : 부사, 형용사 등 좋음 <br>\n",
        "띄어쓰기 없거나 오탈자 : komoran\n",
        "\n",
        "2) (추가한다면) \n",
        "hannanum : 영어, 외래어, 한자 /  \n",
        "kkma : 숫자, 방언 (그러나 시간이 너무 걸려 사용 자제) <br>  \n",
        "\n"
      ]
    },
    {
      "cell_type": "markdown",
      "metadata": {
        "id": "MHpBnMd9OYf7",
        "colab_type": "text"
      },
      "source": [
        "3) 딥러닝 <br>\n",
        "<최적화>\n",
        "adam 최적화 알고리즘 <br>\n",
        "<실험환경>\n",
        "tensorflow\n",
        "epoch : 10\n",
        "batch size : 50\n",
        "learning rate : 0.0001\n"
      ]
    },
    {
      "cell_type": "markdown",
      "metadata": {
        "id": "IHCd9_0ZPO0E",
        "colab_type": "text"
      },
      "source": [
        ""
      ]
    }
  ]
}